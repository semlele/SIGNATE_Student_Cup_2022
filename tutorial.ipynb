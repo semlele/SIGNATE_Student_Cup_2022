{
 "cells": [
  {
   "cell_type": "code",
   "execution_count": 1,
   "metadata": {},
   "outputs": [],
   "source": [
    "import pandas as pd\n",
    "import matplotlib.pyplot as plt\n",
    "import seaborn as sns"
   ]
  },
  {
   "cell_type": "code",
   "execution_count": 2,
   "metadata": {},
   "outputs": [],
   "source": [
    "#学習用データと評価用データの読み込み\n",
    "train = pd.read_csv(\"./data/input/train.csv\")\n",
    "test = pd.read_csv(\"./data/output/test.csv\")"
   ]
  },
  {
   "cell_type": "code",
   "execution_count": 3,
   "metadata": {},
   "outputs": [
    {
     "name": "stdout",
     "output_type": "stream",
     "text": [
      "(1516, 3)\n",
      "(1517, 2)\n"
     ]
    }
   ],
   "source": [
    "#データのサイズ確認\n",
    "print(train.shape)\n",
    "print(test.shape)"
   ]
  },
  {
   "cell_type": "code",
   "execution_count": 4,
   "metadata": {},
   "outputs": [
    {
     "data": {
      "text/html": [
       "<div>\n",
       "<style scoped>\n",
       "    .dataframe tbody tr th:only-of-type {\n",
       "        vertical-align: middle;\n",
       "    }\n",
       "\n",
       "    .dataframe tbody tr th {\n",
       "        vertical-align: top;\n",
       "    }\n",
       "\n",
       "    .dataframe thead th {\n",
       "        text-align: right;\n",
       "    }\n",
       "</style>\n",
       "<table border=\"1\" class=\"dataframe\">\n",
       "  <thead>\n",
       "    <tr style=\"text-align: right;\">\n",
       "      <th></th>\n",
       "      <th>id</th>\n",
       "      <th>description</th>\n",
       "      <th>jobflag</th>\n",
       "    </tr>\n",
       "  </thead>\n",
       "  <tbody>\n",
       "    <tr>\n",
       "      <th>0</th>\n",
       "      <td>0</td>\n",
       "      <td>&lt;li&gt;Develop cutting-edge web applications that...</td>\n",
       "      <td>3</td>\n",
       "    </tr>\n",
       "    <tr>\n",
       "      <th>1</th>\n",
       "      <td>1</td>\n",
       "      <td>&lt;li&gt; Designs and develops high quality, scalab...</td>\n",
       "      <td>3</td>\n",
       "    </tr>\n",
       "    <tr>\n",
       "      <th>2</th>\n",
       "      <td>2</td>\n",
       "      <td>&lt;li&gt;Functions as a point person for Network St...</td>\n",
       "      <td>4</td>\n",
       "    </tr>\n",
       "    <tr>\n",
       "      <th>3</th>\n",
       "      <td>3</td>\n",
       "      <td>&lt;li&gt; Work on the technical design, development...</td>\n",
       "      <td>3</td>\n",
       "    </tr>\n",
       "    <tr>\n",
       "      <th>4</th>\n",
       "      <td>4</td>\n",
       "      <td>&lt;li&gt;Quantify the resources required for a task...</td>\n",
       "      <td>4</td>\n",
       "    </tr>\n",
       "  </tbody>\n",
       "</table>\n",
       "</div>"
      ],
      "text/plain": [
       "   id                                        description  jobflag\n",
       "0   0  <li>Develop cutting-edge web applications that...        3\n",
       "1   1  <li> Designs and develops high quality, scalab...        3\n",
       "2   2  <li>Functions as a point person for Network St...        4\n",
       "3   3  <li> Work on the technical design, development...        3\n",
       "4   4  <li>Quantify the resources required for a task...        4"
      ]
     },
     "execution_count": 4,
     "metadata": {},
     "output_type": "execute_result"
    }
   ],
   "source": [
    "#学習用データの中身を確認\n",
    "train.head()"
   ]
  },
  {
   "cell_type": "code",
   "execution_count": 5,
   "metadata": {},
   "outputs": [
    {
     "data": {
      "text/html": [
       "<div>\n",
       "<style scoped>\n",
       "    .dataframe tbody tr th:only-of-type {\n",
       "        vertical-align: middle;\n",
       "    }\n",
       "\n",
       "    .dataframe tbody tr th {\n",
       "        vertical-align: top;\n",
       "    }\n",
       "\n",
       "    .dataframe thead th {\n",
       "        text-align: right;\n",
       "    }\n",
       "</style>\n",
       "<table border=\"1\" class=\"dataframe\">\n",
       "  <thead>\n",
       "    <tr style=\"text-align: right;\">\n",
       "      <th></th>\n",
       "      <th>id</th>\n",
       "      <th>description</th>\n",
       "      <th>jobflag</th>\n",
       "    </tr>\n",
       "  </thead>\n",
       "  <tbody>\n",
       "    <tr>\n",
       "      <th>0</th>\n",
       "      <td>0</td>\n",
       "      <td>&lt;li&gt;Develop cutting-edge web applications that...</td>\n",
       "      <td>3</td>\n",
       "    </tr>\n",
       "    <tr>\n",
       "      <th>1</th>\n",
       "      <td>1</td>\n",
       "      <td>&lt;li&gt; Designs and develops high quality, scalab...</td>\n",
       "      <td>3</td>\n",
       "    </tr>\n",
       "    <tr>\n",
       "      <th>2</th>\n",
       "      <td>2</td>\n",
       "      <td>&lt;li&gt;Functions as a point person for Network St...</td>\n",
       "      <td>4</td>\n",
       "    </tr>\n",
       "    <tr>\n",
       "      <th>3</th>\n",
       "      <td>3</td>\n",
       "      <td>&lt;li&gt; Work on the technical design, development...</td>\n",
       "      <td>3</td>\n",
       "    </tr>\n",
       "    <tr>\n",
       "      <th>4</th>\n",
       "      <td>4</td>\n",
       "      <td>&lt;li&gt;Quantify the resources required for a task...</td>\n",
       "      <td>4</td>\n",
       "    </tr>\n",
       "  </tbody>\n",
       "</table>\n",
       "</div>"
      ],
      "text/plain": [
       "   id                                        description  jobflag\n",
       "0   0  <li>Develop cutting-edge web applications that...        3\n",
       "1   1  <li> Designs and develops high quality, scalab...        3\n",
       "2   2  <li>Functions as a point person for Network St...        4\n",
       "3   3  <li> Work on the technical design, development...        3\n",
       "4   4  <li>Quantify the resources required for a task...        4"
      ]
     },
     "execution_count": 5,
     "metadata": {},
     "output_type": "execute_result"
    }
   ],
   "source": [
    "#学習用データの中身を確認\n",
    "train.head()"
   ]
  },
  {
   "cell_type": "code",
   "execution_count": 6,
   "metadata": {},
   "outputs": [
    {
     "name": "stdout",
     "output_type": "stream",
     "text": [
      "4    505\n",
      "1    468\n",
      "3    455\n",
      "2     88\n",
      "Name: jobflag, dtype: int64\n"
     ]
    },
    {
     "data": {
      "text/plain": [
       "<AxesSubplot:>"
      ]
     },
     "execution_count": 6,
     "metadata": {},
     "output_type": "execute_result"
    },
    {
     "data": {
      "image/png": "[encoded data removed]",
      "text/plain": [
       "<Figure size 432x288 with 1 Axes>"
      ]
     },
     "metadata": {
      "needs_background": "light"
     },
     "output_type": "display_data"
    }
   ],
   "source": [
    "#学習用データに含まれるjobflagをカウント（＋可視化）\n",
    "print(train['jobflag'].value_counts())\n",
    "train['jobflag'].value_counts().plot(kind = 'bar')"
   ]
  },
  {
   "cell_type": "code",
   "execution_count": 7,
   "metadata": {},
   "outputs": [],
   "source": [
    "#学習用データ, 評価用データのdescriptionに含まれる文字数を確認\n",
    "train_length = train['description'].str.len()\n",
    "test_length = test['description'].str.len()"
   ]
  },
  {
   "cell_type": "code",
   "execution_count": 8,
   "metadata": {},
   "outputs": [
    {
     "data": {
      "image/png": "[encoded data removed]",
      "text/plain": [
       "<Figure size 432x288 with 1 Axes>"
      ]
     },
     "metadata": {
      "needs_background": "light"
     },
     "output_type": "display_data"
    }
   ],
   "source": [
    "#可視化\n",
    "fig = plt.figure()\n",
    "ax = fig.add_subplot(1, 1, 1)\n",
    "ax.violinplot([train_length, test_length])\n",
    "ax.set_xticks([1, 2])\n",
    "ax.set_xticklabels(['train', 'test'])\n",
    "ax.set_ylabel('word count')\n",
    "plt.show()"
   ]
  },
  {
   "cell_type": "code",
   "execution_count": 9,
   "metadata": {},
   "outputs": [
    {
     "data": {
      "image/png": "[encoded data removed]",
      "text/plain": [
       "<Figure size 1080x288 with 4 Axes>"
      ]
     },
     "metadata": {
      "needs_background": "light"
     },
     "output_type": "display_data"
    }
   ],
   "source": [
    "#学習用データの職業ラベル(jobflag)ごとの文字数を確認\n",
    "fig = plt.figure(figsize = (15, 4))\n",
    "for flag in [1, 2, 3, 4]:\n",
    "    train_length_flag = train[train['jobflag'] == flag]['description'].str.len()\n",
    "    ax = fig.add_subplot(1, 4, flag)\n",
    "    ax.violinplot(train_length_flag)\n",
    "    ax.set_xticks([1])\n",
    "    ax.set_xticklabels([flag])\n",
    "    ax.set_ylabel('word count')\n",
    "plt.tight_layout()\n",
    "plt.show()"
   ]
  },
  {
   "cell_type": "code",
   "execution_count": 10,
   "metadata": {},
   "outputs": [],
   "source": [
    "#学習用データと評価用データを結合する (両データに対し一括で前処理を行うため)\n",
    "combined = train.append(test, ignore_index=True)"
   ]
  },
  {
   "cell_type": "code",
   "execution_count": 11,
   "metadata": {},
   "outputs": [],
   "source": [
    "#以下の手順でdescriptionデータのクリーニングを行う.\n",
    "# <li>などのhtmlタグを削除する\n",
    "# アルファベット以外の文字をスペースに置き換える\n",
    "# 単語長が3文字以下のものは削除する\n",
    "# ステミング（単語の語幹を取り出す作業のこと. 派生語を同じ単語として扱えるようにする）\n",
    "\n",
    "import re\n",
    "from nltk.stem.porter import PorterStemmer\n",
    "stemmer = PorterStemmer()\n",
    "\n",
    "def cleaning(texts):\n",
    "    clean_texts = []\n",
    "    for text in texts:\n",
    "        # htmlタグを削除\n",
    "        text = remove_tag(text)\n",
    "        #アルファベット以外をスペースに置き換え\n",
    "        clean_punc = re.sub(r'[^a-zA-Z]', ' ', text)\n",
    "        #単語長が3文字以下のものは削除する\n",
    "        clean_short_tokenized = [word for word in clean_punc.split() if len(word) > 3]\n",
    "        #ステミング\n",
    "        clean_normalize = [stemmer.stem(word) for word in clean_short_tokenized]\n",
    "        #単語同士をスペースでつなぎ, 文章に戻す\n",
    "        clean_text = ' '.join(clean_normalize)\n",
    "        clean_texts.append(clean_text)\n",
    "    return clean_texts\n",
    "\n",
    "def remove_tag(x):\n",
    "    p = re.compile(r\"<[^>]*?>\")\n",
    "    return p.sub('',x)\n",
    "\n",
    "combined_cleaned = combined.copy()\n",
    "combined_cleaned['description'] = cleaning(combined['description'])"
   ]
  },
  {
   "cell_type": "code",
   "execution_count": 12,
   "metadata": {},
   "outputs": [
    {
     "name": "stdout",
     "output_type": "stream",
     "text": [
      "#original\n",
      " <li>Develop cutting-edge web applications that perform superbly across all platforms.</li><li>Work in a highly collaborative environment with cross-functional teams on projects ranging from a few weeks to a few months in length.</li><li>Maintain high standard of quality as you creatively and strategically problem solve throughout the product delivery process.</li><li>Be able to effectively communicate your work with both technical and non-technical peers</li><li>Be excited about new web technologies/techniques</li><li>Build solid front-end architectures that integrate easily with other systems and technologies</li><li>Working closely with other disciplines (Back-end, UX, Design, QA)</li><li>Have a superior attention to detail and a strong ability to Q/A one\\'s own work required, including cross-browser and cross-platform displays and performance</li></ul>\n",
      "-----\n",
      "#cleaned\n",
      " develop cut edg applic that perform superbl across platform work highli collabor environ with cross function team project rang from week month length maintain high standard qualiti creativ strateg problem solv throughout product deliveri process abl effect commun your work with both technic technic peersb excit about technolog techniquesbuild solid front architectur that integr easili with other system technologieswork close with other disciplin back design have superior attent detail strong abil work requir includ cross browser cross platform display perform\n"
     ]
    }
   ],
   "source": [
    "# クリーニング結果の確認\n",
    "print('#original\\n', combined['description'][0])\n",
    "print(\"-----\")\n",
    "print('#cleaned\\n', combined_cleaned['description'][0])"
   ]
  },
  {
   "cell_type": "code",
   "execution_count": 13,
   "metadata": {},
   "outputs": [
    {
     "name": "stdout",
     "output_type": "stream",
     "text": [
      "(3033, 2000)\n"
     ]
    }
   ],
   "source": [
    "#bag of words(文章中の単語の登場回数をカウントし, 特徴量化する手法)を用いて、descriptionをベクトル化する\n",
    "\n",
    "from sklearn.feature_extraction.text import CountVectorizer\n",
    "\n",
    "bow_vectorizer = CountVectorizer(max_df=0.90, min_df=2, max_features=2000, stop_words='english')\n",
    "bow = bow_vectorizer.fit_transform(combined_cleaned['description'])\n",
    "print(bow.shape)"
   ]
  },
  {
   "cell_type": "code",
   "execution_count": 14,
   "metadata": {},
   "outputs": [],
   "source": [
    "#学習用データを分割して, 投稿前の精度検証を行う\n",
    "\n",
    "from sklearn.model_selection import train_test_split\n",
    "\n",
    "delimit_num = train.shape[0]\n",
    "train_bow = bow[:delimit_num, :]\n",
    "test_bow = bow[delimit_num:, :]\n",
    "\n",
    "x_bow_train, x_bow_valid, y_bow_train, y_bow_valid = train_test_split(train_bow, train['jobflag'], test_size=0.3, random_state=0)"
   ]
  },
  {
   "cell_type": "code",
   "execution_count": 15,
   "metadata": {},
   "outputs": [],
   "source": [
    "#XGBを用いて分類器を作成し、学習・予測を行う\n",
    "\n",
    "from xgboost import XGBClassifier\n",
    "\n",
    "mod = XGBClassifier(max_depth=6, n_estimators=1000, n_jobs=-1)\n",
    "mod.fit(x_bow_train, y_bow_train)\n",
    "pred = mod.predict(x_bow_valid)"
   ]
  },
  {
   "cell_type": "code",
   "execution_count": 16,
   "metadata": {},
   "outputs": [
    {
     "name": "stdout",
     "output_type": "stream",
     "text": [
      "              precision    recall  f1-score   support\n",
      "\n",
      "           1      0.592     0.679     0.633       137\n",
      "           2      0.429     0.136     0.207        22\n",
      "           3      0.806     0.719     0.760       139\n",
      "           4      0.701     0.745     0.722       157\n",
      "\n",
      "    accuracy                          0.688       455\n",
      "   macro avg      0.632     0.570     0.581       455\n",
      "weighted avg      0.687     0.688     0.682       455\n",
      "\n"
     ]
    },
    {
     "data": {
      "image/png": "[encoded data removed]",
      "text/plain": [
       "<Figure size 600x600 with 2 Axes>"
      ]
     },
     "metadata": {
      "needs_background": "light"
     },
     "output_type": "display_data"
    }
   ],
   "source": [
    "from sklearn.metrics import confusion_matrix, classification_report\n",
    "labels = [1, 2, 3, 4]\n",
    "re_labels = [\"DS\", \"ML\", \"SE\", \"Cons\"]\n",
    "\n",
    "#混同行列の作成\n",
    "conf_mx = confusion_matrix(y_bow_valid, pred, labels=labels)\n",
    "conf_df = pd.DataFrame(data=conf_mx, index=[x + \"(act)\" for x in re_labels], columns=[x + \"(pred)\" for x in re_labels])\n",
    "\n",
    "#可視化\n",
    "plt.figure(figsize=(4, 4), dpi=150)\n",
    "sns.heatmap(conf_df, cmap='Blues', annot=True, fmt='d', annot_kws={\"size\": 12}).invert_yaxis()\n",
    "plt.tight_layout()\n",
    " \n",
    "print(classification_report(y_bow_valid, pred, labels=labels, digits=3))"
   ]
  },
  {
   "cell_type": "code",
   "execution_count": 17,
   "metadata": {},
   "outputs": [],
   "source": [
    "#投稿用にtrain全体にて学習し、testで評価する\n",
    "mod.fit(train_bow, train['jobflag'])\n",
    "pred_sub = mod.predict(test_bow)"
   ]
  },
  {
   "cell_type": "code",
   "execution_count": 18,
   "metadata": {},
   "outputs": [],
   "source": [
    "#投稿用のフォーマットで出力\n",
    "sample_submit_df = pd.DataFrame([test['id'], pred_sub]).T\n",
    "sample_submit_df.to_csv('./data/sample.csv', header=None, index=None)"
   ]
  }
 ],
 "metadata": {
  "kernelspec": {
   "display_name": "Python 3.9.7 64-bit ('3.9.7')",
   "language": "python",
   "name": "python3"
  },
  "language_info": {
   "codemirror_mode": {
    "name": "ipython",
    "version": 3
   },
   "file_extension": ".py",
   "mimetype": "text/x-python",
   "name": "python",
   "nbconvert_exporter": "python",
   "pygments_lexer": "ipython3",
   "version": "3.9.7"
  },
  "orig_nbformat": 4,
  "vscode": {
   "interpreter": {
    "hash": "018e698ad4ee76de1e6b03c52fd98408b1c1cfa7f830baaacef3ce0dee8f0a1b"
   }
  }
 },
 "nbformat": 4,
 "nbformat_minor": 2
}
